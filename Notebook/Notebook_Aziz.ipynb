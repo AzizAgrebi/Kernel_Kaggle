{
 "cells": [
  {
   "cell_type": "code",
   "execution_count": 1,
   "metadata": {},
   "outputs": [],
   "source": [
    "import numpy as np \n",
    "import pandas as pd\n",
    "from sklearn.model_selection import train_test_split\n",
    "from tqdm import tqdm\n",
    "from numba import njit"
   ]
  },
  {
   "cell_type": "code",
   "execution_count": 4,
   "metadata": {},
   "outputs": [],
   "source": [
    "def Kmer(X, k):\n",
    "    res = set()\n",
    "    for x_i in X:\n",
    "        for j in range(len(x_i) - k + 1):\n",
    "            res.update([x_i[j: j  + k]])\n",
    "    return list(res)\n",
    "\n",
    "def SpectrumEmbedding(X, list_k, train=True, X_train=None):\n",
    "    kmers = set()\n",
    "    for k in list_k:\n",
    "        if train:\n",
    "            kmers.update(Kmer(X, k=k))\n",
    "        else:\n",
    "            kmers.update(Kmer(X_train, k=k))\n",
    "\n",
    "    X_df = pd.DataFrame(X, columns=[\"seq\"])\n",
    "\n",
    "    res = []\n",
    "    for kmer in tqdm(list(kmers)):\n",
    "        res.append(X_df[\"seq\"].str.count(kmer).values)\n",
    "\n",
    "    return np.transpose(np.array(res, dtype=np.uint8))\n",
    "\n",
    "def sigmoid(x):\n",
    "    return 1 / (1 + np.exp(-x))\n",
    "\n",
    "import numpy as np\n",
    "\n",
    "def sigmoid(x):\n",
    "    return 1 / (1 + np.exp(-x))\n",
    "\n",
    "class KernelLogisticRegression:\n",
    "    def __init__(self, kernel, preprocessing=None, normalization=None,\n",
    "                 dropout=None, maxi=False, lamda=1, max_iter=15, verbose=True):\n",
    "        \"\"\"Kernel Logistic Regression with gradient descent optimization.\"\"\"\n",
    "\n",
    "        self.kernel = kernel\n",
    "        self.preprocessing = preprocessing\n",
    "        self.normalization = normalization\n",
    "        self.dropout = dropout\n",
    "        self.maxi = maxi\n",
    "        self.lamda = lamda\n",
    "        self.max_iter = max_iter\n",
    "        self.verbose = verbose\n",
    "\n",
    "        # History tracking\n",
    "        self.alpha_history = []\n",
    "        self.loss_history = []\n",
    "\n",
    "    def _apply_kernel(self, X1, X2):\n",
    "        \"\"\"Computes the kernel function.\"\"\"\n",
    "        return self.kernel.call(X1, X2)\n",
    "\n",
    "    def _preprocess_kernel(self, K, K_test=None):\n",
    "        \"\"\"Applies preprocessing and normalization to the kernel matrix.\"\"\"\n",
    "        if self.preprocessing:\n",
    "            K = self.preprocessing(K)\n",
    "        if self.normalization:\n",
    "            if K_test is not None:\n",
    "                K_test = self.kernel.call(K_test, K_test)\n",
    "                K_test = self.preprocessing(K_test)\n",
    "                return self.normalization(K, K_train=self.K_train, K_test=K_test)\n",
    "            K = self.normalization(K)\n",
    "        return K\n",
    "\n",
    "    def _initialize_labels(self, labels):\n",
    "        \"\"\"Maps labels to {-1, 1} and stores mappings.\"\"\"\n",
    "        self.label_map = {min(labels): -1, max(labels): 1}\n",
    "        self.inverse_label_map = {-1: min(labels), 1: max(labels)}\n",
    "        return np.array([self.label_map[y] for y in labels]).reshape(-1, 1)\n",
    "\n",
    "    def fit(self, X_train, y_train, alpha_init=None):\n",
    "        \"\"\"Fits the model using gradient descent.\"\"\"\n",
    "        self.X_train = X_train\n",
    "        self.y_train = self._initialize_labels(y_train)\n",
    "\n",
    "        # Compute kernel matrix\n",
    "        self.K_train = self._apply_kernel(X_train, X_train)\n",
    "        self.K_train = self._preprocess_kernel(self.K_train)\n",
    "\n",
    "        # Handle dropout\n",
    "        if self.maxi:\n",
    "            self.y_train = self.y_train[::2]\n",
    "\n",
    "        # Initialize alpha\n",
    "        self.alpha = np.zeros((self.K_train.shape[1], 1)) if alpha_init is None else alpha_init\n",
    "\n",
    "        self._gradient_descent()\n",
    "\n",
    "    def predict(self, X_test, avg_size=3):\n",
    "        \"\"\"Predicts labels for new data.\"\"\"\n",
    "        K_test = self._apply_kernel(self.X_train, X_test)\n",
    "        K_test = self._preprocess_kernel(K_test)\n",
    "\n",
    "        alpha_avg = np.mean(self.alpha_history[-avg_size:], axis=0).reshape(-1)\n",
    "        y_pred = np.where(sigmoid(alpha_avg.T @ K_test) >= 0.5, 1, -1)\n",
    "\n",
    "        return np.array([self.inverse_label_map[y] for y in y_pred]).reshape(-1, 1)\n",
    "\n",
    "    def predict_proba(self, X_test, avg_size=3):\n",
    "        \"\"\"Predicts class probabilities.\"\"\"\n",
    "        K_test = self._apply_kernel(self.X_train, X_test)\n",
    "        alpha_avg = np.mean(self.alpha_history[-avg_size:], axis=0).reshape(-1)\n",
    "        return sigmoid(alpha_avg.T @ K_test)\n",
    "\n",
    "    def score(self, X_test, y_test):\n",
    "        \"\"\"Computes accuracy of the model.\"\"\"\n",
    "        y_pred = self.predict(X_test)\n",
    "\n",
    "        if self.maxi:\n",
    "            y_test = y_test[::2]\n",
    "\n",
    "        return np.mean(y_pred == y_test.reshape(-1, 1))\n",
    "\n",
    "    def _compute_loss(self):\n",
    "        \"\"\"Computes the loss function value.\"\"\"\n",
    "        K_grad = self.dropout(self.K_train) if self.dropout else self.K_train\n",
    "        loss = np.log(1 + np.exp(-self.y_train * (K_grad @ self.alpha)))\n",
    "        return np.mean(loss) + (self.lamda / 2) * (self.alpha.T @ K_grad @ self.alpha)\n",
    "\n",
    "    def _compute_gradient(self):\n",
    "        \"\"\"Computes the gradient of the loss function.\"\"\"\n",
    "        n = self.K_train.shape[0]\n",
    "        K_grad = self.dropout(self.K_train) if self.dropout else self.K_train\n",
    "        grad = (1 / n) * (K_grad @ np.diagflat(self.P) @ self.y_train)\n",
    "        return grad + self.lamda * (K_grad @ self.alpha)\n",
    "\n",
    "    def _gradient_descent(self):\n",
    "        \"\"\"Performs gradient descent optimization.\"\"\"\n",
    "        n = self.K_train.shape[0]\n",
    "        self.P = np.random.rand(n, 1) + 1e-5\n",
    "\n",
    "        for i in range(self.max_iter):\n",
    "            K_grad = self.dropout(self.K_train) if self.dropout else self.K_train\n",
    "\n",
    "            self.m = K_grad @ self.alpha\n",
    "            self.P = -sigmoid(-self.y_train * self.m)\n",
    "            self.W = sigmoid(self.m) * sigmoid(-self.m)\n",
    "            self.z = self.m - (self.y_train * self.P / self.W)\n",
    "\n",
    "            W_diag = np.diagflat(self.W)\n",
    "            inv_term = np.linalg.inv(W_diag @ K_grad + (n * self.lamda + 1e-5) * np.eye(n))\n",
    "            self.alpha = inv_term @ (W_diag @ self.z)\n",
    "\n",
    "            self.alpha_history.append(self.alpha.reshape(-1))\n",
    "            self.loss_history.append(self._compute_loss())\n",
    "\n",
    "            if self.verbose:\n",
    "                print(f\"Iteration {i + 1}, Loss: {self.loss_history[-1]:.6f}\")\n",
    "\n",
    "@njit\n",
    "def linear_kernel(X, Y):\n",
    "    return np.dot(X.astype(np.float64), Y.T.astype(np.float64))\n",
    "\n",
    "class PolyKernel():\n",
    "    def __init__(self, k=2):\n",
    "        self.k = k\n",
    "    \n",
    "    def call(self, X, Y):\n",
    "        return linear_kernel(X, Y)**self.k"
   ]
  },
  {
   "cell_type": "code",
   "execution_count": 13,
   "metadata": {},
   "outputs": [
    {
     "name": "stderr",
     "output_type": "stream",
     "text": [
      " 25%|██▍       | 42421/172281 [00:51<02:39, 816.06it/s]\n"
     ]
    },
    {
     "ename": "KeyboardInterrupt",
     "evalue": "",
     "output_type": "error",
     "traceback": [
      "\u001b[31m---------------------------------------------------------------------------\u001b[39m",
      "\u001b[31mKeyboardInterrupt\u001b[39m                         Traceback (most recent call last)",
      "\u001b[36mCell\u001b[39m\u001b[36m \u001b[39m\u001b[32mIn[13]\u001b[39m\u001b[32m, line 12\u001b[39m\n\u001b[32m      9\u001b[39m y_train = np.array(y_train[\u001b[33m\"\u001b[39m\u001b[33mBound\u001b[39m\u001b[33m\"\u001b[39m])\n\u001b[32m     10\u001b[39m X_test = np.array(X_test[\u001b[33m\"\u001b[39m\u001b[33mseq\u001b[39m\u001b[33m\"\u001b[39m])\n\u001b[32m---> \u001b[39m\u001b[32m12\u001b[39m X_train_embed = \u001b[43mSpectrumEmbedding\u001b[49m\u001b[43m(\u001b[49m\u001b[43mX\u001b[49m\u001b[43m=\u001b[49m\u001b[43mX_train\u001b[49m\u001b[43m,\u001b[49m\u001b[43m \u001b[49m\u001b[43mlist_k\u001b[49m\u001b[43m=\u001b[49m\u001b[43m[\u001b[49m\u001b[32;43m5\u001b[39;49m\u001b[43m,\u001b[49m\u001b[43m \u001b[49m\u001b[32;43m7\u001b[39;49m\u001b[43m,\u001b[49m\u001b[43m \u001b[49m\u001b[32;43m12\u001b[39;49m\u001b[43m]\u001b[49m\u001b[43m,\u001b[49m\u001b[43m \u001b[49m\u001b[43mtrain\u001b[49m\u001b[43m=\u001b[49m\u001b[38;5;28;43;01mTrue\u001b[39;49;00m\u001b[43m)\u001b[49m\n\u001b[32m     13\u001b[39m X_test_embed = SpectrumEmbedding(X=X_test, list_k=[\u001b[32m5\u001b[39m, \u001b[32m7\u001b[39m, \u001b[32m12\u001b[39m], train=\u001b[38;5;28;01mFalse\u001b[39;00m, X_train=X_train)\n\u001b[32m     15\u001b[39m kernel = PolyKernel(\u001b[32m2\u001b[39m)\n",
      "\u001b[36mCell\u001b[39m\u001b[36m \u001b[39m\u001b[32mIn[4]\u001b[39m\u001b[32m, line 19\u001b[39m, in \u001b[36mSpectrumEmbedding\u001b[39m\u001b[34m(X, list_k, train, X_train)\u001b[39m\n\u001b[32m     16\u001b[39m X_df = pd.DataFrame(X, columns=[\u001b[33m\"\u001b[39m\u001b[33mseq\u001b[39m\u001b[33m\"\u001b[39m])\n\u001b[32m     18\u001b[39m res = []\n\u001b[32m---> \u001b[39m\u001b[32m19\u001b[39m \u001b[43m\u001b[49m\u001b[38;5;28;43;01mfor\u001b[39;49;00m\u001b[43m \u001b[49m\u001b[43mkmer\u001b[49m\u001b[43m \u001b[49m\u001b[38;5;129;43;01min\u001b[39;49;00m\u001b[43m \u001b[49m\u001b[43mtqdm\u001b[49m\u001b[43m(\u001b[49m\u001b[38;5;28;43mlist\u001b[39;49m\u001b[43m(\u001b[49m\u001b[43mkmers\u001b[49m\u001b[43m)\u001b[49m\u001b[43m)\u001b[49m\u001b[43m:\u001b[49m\n\u001b[32m     20\u001b[39m \u001b[43m    \u001b[49m\u001b[43mres\u001b[49m\u001b[43m.\u001b[49m\u001b[43mappend\u001b[49m\u001b[43m(\u001b[49m\u001b[43mX_df\u001b[49m\u001b[43m[\u001b[49m\u001b[33;43m\"\u001b[39;49m\u001b[33;43mseq\u001b[39;49m\u001b[33;43m\"\u001b[39;49m\u001b[43m]\u001b[49m\u001b[43m.\u001b[49m\u001b[43mstr\u001b[49m\u001b[43m.\u001b[49m\u001b[43mcount\u001b[49m\u001b[43m(\u001b[49m\u001b[43mkmer\u001b[49m\u001b[43m)\u001b[49m\u001b[43m.\u001b[49m\u001b[43mvalues\u001b[49m\u001b[43m)\u001b[49m\n\u001b[32m     22\u001b[39m \u001b[38;5;28;01mreturn\u001b[39;00m np.transpose(np.array(res, dtype=np.uint8))\n",
      "\u001b[36mFile \u001b[39m\u001b[32mc:\\Users\\aziza\\Desktop\\kernel_kaggle\\kernel_kaggle\\Lib\\site-packages\\tqdm\\std.py:1191\u001b[39m, in \u001b[36mtqdm.__iter__\u001b[39m\u001b[34m(self)\u001b[39m\n\u001b[32m   1189\u001b[39m dt = cur_t - last_print_t\n\u001b[32m   1190\u001b[39m \u001b[38;5;28;01mif\u001b[39;00m dt >= mininterval \u001b[38;5;129;01mand\u001b[39;00m cur_t >= min_start_t:\n\u001b[32m-> \u001b[39m\u001b[32m1191\u001b[39m     \u001b[38;5;28;43mself\u001b[39;49m\u001b[43m.\u001b[49m\u001b[43mupdate\u001b[49m\u001b[43m(\u001b[49m\u001b[43mn\u001b[49m\u001b[43m \u001b[49m\u001b[43m-\u001b[49m\u001b[43m \u001b[49m\u001b[43mlast_print_n\u001b[49m\u001b[43m)\u001b[49m\n\u001b[32m   1192\u001b[39m     last_print_n = \u001b[38;5;28mself\u001b[39m.last_print_n\n\u001b[32m   1193\u001b[39m     last_print_t = \u001b[38;5;28mself\u001b[39m.last_print_t\n",
      "\u001b[36mFile \u001b[39m\u001b[32mc:\\Users\\aziza\\Desktop\\kernel_kaggle\\kernel_kaggle\\Lib\\site-packages\\tqdm\\std.py:1242\u001b[39m, in \u001b[36mtqdm.update\u001b[39m\u001b[34m(self, n)\u001b[39m\n\u001b[32m   1240\u001b[39m     \u001b[38;5;28mself\u001b[39m._ema_dn(dn)\n\u001b[32m   1241\u001b[39m     \u001b[38;5;28mself\u001b[39m._ema_dt(dt)\n\u001b[32m-> \u001b[39m\u001b[32m1242\u001b[39m \u001b[38;5;28;43mself\u001b[39;49m\u001b[43m.\u001b[49m\u001b[43mrefresh\u001b[49m\u001b[43m(\u001b[49m\u001b[43mlock_args\u001b[49m\u001b[43m=\u001b[49m\u001b[38;5;28;43mself\u001b[39;49m\u001b[43m.\u001b[49m\u001b[43mlock_args\u001b[49m\u001b[43m)\u001b[49m\n\u001b[32m   1243\u001b[39m \u001b[38;5;28;01mif\u001b[39;00m \u001b[38;5;28mself\u001b[39m.dynamic_miniters:\n\u001b[32m   1244\u001b[39m     \u001b[38;5;66;03m# If no `miniters` was specified, adjust automatically to the\u001b[39;00m\n\u001b[32m   1245\u001b[39m     \u001b[38;5;66;03m# maximum iteration rate seen so far between two prints.\u001b[39;00m\n\u001b[32m   1246\u001b[39m     \u001b[38;5;66;03m# e.g.: After running `tqdm.update(5)`, subsequent\u001b[39;00m\n\u001b[32m   1247\u001b[39m     \u001b[38;5;66;03m# calls to `tqdm.update()` will only cause an update after\u001b[39;00m\n\u001b[32m   1248\u001b[39m     \u001b[38;5;66;03m# at least 5 more iterations.\u001b[39;00m\n\u001b[32m   1249\u001b[39m     \u001b[38;5;28;01mif\u001b[39;00m \u001b[38;5;28mself\u001b[39m.maxinterval \u001b[38;5;129;01mand\u001b[39;00m dt >= \u001b[38;5;28mself\u001b[39m.maxinterval:\n",
      "\u001b[36mFile \u001b[39m\u001b[32mc:\\Users\\aziza\\Desktop\\kernel_kaggle\\kernel_kaggle\\Lib\\site-packages\\tqdm\\std.py:1347\u001b[39m, in \u001b[36mtqdm.refresh\u001b[39m\u001b[34m(self, nolock, lock_args)\u001b[39m\n\u001b[32m   1345\u001b[39m     \u001b[38;5;28;01melse\u001b[39;00m:\n\u001b[32m   1346\u001b[39m         \u001b[38;5;28mself\u001b[39m._lock.acquire()\n\u001b[32m-> \u001b[39m\u001b[32m1347\u001b[39m \u001b[38;5;28;43mself\u001b[39;49m\u001b[43m.\u001b[49m\u001b[43mdisplay\u001b[49m\u001b[43m(\u001b[49m\u001b[43m)\u001b[49m\n\u001b[32m   1348\u001b[39m \u001b[38;5;28;01mif\u001b[39;00m \u001b[38;5;129;01mnot\u001b[39;00m nolock:\n\u001b[32m   1349\u001b[39m     \u001b[38;5;28mself\u001b[39m._lock.release()\n",
      "\u001b[36mFile \u001b[39m\u001b[32mc:\\Users\\aziza\\Desktop\\kernel_kaggle\\kernel_kaggle\\Lib\\site-packages\\tqdm\\std.py:1495\u001b[39m, in \u001b[36mtqdm.display\u001b[39m\u001b[34m(self, msg, pos)\u001b[39m\n\u001b[32m   1493\u001b[39m \u001b[38;5;28;01mif\u001b[39;00m pos:\n\u001b[32m   1494\u001b[39m     \u001b[38;5;28mself\u001b[39m.moveto(pos)\n\u001b[32m-> \u001b[39m\u001b[32m1495\u001b[39m \u001b[38;5;28;43mself\u001b[39;49m\u001b[43m.\u001b[49m\u001b[43msp\u001b[49m\u001b[43m(\u001b[49m\u001b[38;5;28;43mself\u001b[39;49m\u001b[43m.\u001b[49m\u001b[34;43m__str__\u001b[39;49m\u001b[43m(\u001b[49m\u001b[43m)\u001b[49m\u001b[43m \u001b[49m\u001b[38;5;28;43;01mif\u001b[39;49;00m\u001b[43m \u001b[49m\u001b[43mmsg\u001b[49m\u001b[43m \u001b[49m\u001b[38;5;129;43;01mis\u001b[39;49;00m\u001b[43m \u001b[49m\u001b[38;5;28;43;01mNone\u001b[39;49;00m\u001b[43m \u001b[49m\u001b[38;5;28;43;01melse\u001b[39;49;00m\u001b[43m \u001b[49m\u001b[43mmsg\u001b[49m\u001b[43m)\u001b[49m\n\u001b[32m   1496\u001b[39m \u001b[38;5;28;01mif\u001b[39;00m pos:\n\u001b[32m   1497\u001b[39m     \u001b[38;5;28mself\u001b[39m.moveto(-pos)\n",
      "\u001b[36mFile \u001b[39m\u001b[32mc:\\Users\\aziza\\Desktop\\kernel_kaggle\\kernel_kaggle\\Lib\\site-packages\\tqdm\\std.py:459\u001b[39m, in \u001b[36mtqdm.status_printer.<locals>.print_status\u001b[39m\u001b[34m(s)\u001b[39m\n\u001b[32m    457\u001b[39m \u001b[38;5;28;01mdef\u001b[39;00m\u001b[38;5;250m \u001b[39m\u001b[34mprint_status\u001b[39m(s):\n\u001b[32m    458\u001b[39m     len_s = disp_len(s)\n\u001b[32m--> \u001b[39m\u001b[32m459\u001b[39m     \u001b[43mfp_write\u001b[49m\u001b[43m(\u001b[49m\u001b[33;43m'\u001b[39;49m\u001b[38;5;130;43;01m\\r\u001b[39;49;00m\u001b[33;43m'\u001b[39;49m\u001b[43m \u001b[49m\u001b[43m+\u001b[49m\u001b[43m \u001b[49m\u001b[43ms\u001b[49m\u001b[43m \u001b[49m\u001b[43m+\u001b[49m\u001b[43m \u001b[49m\u001b[43m(\u001b[49m\u001b[33;43m'\u001b[39;49m\u001b[33;43m \u001b[39;49m\u001b[33;43m'\u001b[39;49m\u001b[43m \u001b[49m\u001b[43m*\u001b[49m\u001b[43m \u001b[49m\u001b[38;5;28;43mmax\u001b[39;49m\u001b[43m(\u001b[49m\u001b[43mlast_len\u001b[49m\u001b[43m[\u001b[49m\u001b[32;43m0\u001b[39;49m\u001b[43m]\u001b[49m\u001b[43m \u001b[49m\u001b[43m-\u001b[49m\u001b[43m \u001b[49m\u001b[43mlen_s\u001b[49m\u001b[43m,\u001b[49m\u001b[43m \u001b[49m\u001b[32;43m0\u001b[39;49m\u001b[43m)\u001b[49m\u001b[43m)\u001b[49m\u001b[43m)\u001b[49m\n\u001b[32m    460\u001b[39m     last_len[\u001b[32m0\u001b[39m] = len_s\n",
      "\u001b[36mFile \u001b[39m\u001b[32mc:\\Users\\aziza\\Desktop\\kernel_kaggle\\kernel_kaggle\\Lib\\site-packages\\tqdm\\std.py:452\u001b[39m, in \u001b[36mtqdm.status_printer.<locals>.fp_write\u001b[39m\u001b[34m(s)\u001b[39m\n\u001b[32m    451\u001b[39m \u001b[38;5;28;01mdef\u001b[39;00m\u001b[38;5;250m \u001b[39m\u001b[34mfp_write\u001b[39m(s):\n\u001b[32m--> \u001b[39m\u001b[32m452\u001b[39m     \u001b[43mfp\u001b[49m\u001b[43m.\u001b[49m\u001b[43mwrite\u001b[49m\u001b[43m(\u001b[49m\u001b[38;5;28;43mstr\u001b[39;49m\u001b[43m(\u001b[49m\u001b[43ms\u001b[49m\u001b[43m)\u001b[49m\u001b[43m)\u001b[49m\n\u001b[32m    453\u001b[39m     fp_flush()\n",
      "\u001b[36mFile \u001b[39m\u001b[32mc:\\Users\\aziza\\Desktop\\kernel_kaggle\\kernel_kaggle\\Lib\\site-packages\\tqdm\\utils.py:196\u001b[39m, in \u001b[36mDisableOnWriteError.disable_on_exception.<locals>.inner\u001b[39m\u001b[34m(*args, **kwargs)\u001b[39m\n\u001b[32m    194\u001b[39m \u001b[38;5;28;01mdef\u001b[39;00m\u001b[38;5;250m \u001b[39m\u001b[34minner\u001b[39m(*args, **kwargs):\n\u001b[32m    195\u001b[39m     \u001b[38;5;28;01mtry\u001b[39;00m:\n\u001b[32m--> \u001b[39m\u001b[32m196\u001b[39m         \u001b[38;5;28;01mreturn\u001b[39;00m \u001b[43mfunc\u001b[49m\u001b[43m(\u001b[49m\u001b[43m*\u001b[49m\u001b[43margs\u001b[49m\u001b[43m,\u001b[49m\u001b[43m \u001b[49m\u001b[43m*\u001b[49m\u001b[43m*\u001b[49m\u001b[43mkwargs\u001b[49m\u001b[43m)\u001b[49m\n\u001b[32m    197\u001b[39m     \u001b[38;5;28;01mexcept\u001b[39;00m \u001b[38;5;167;01mOSError\u001b[39;00m \u001b[38;5;28;01mas\u001b[39;00m e:\n\u001b[32m    198\u001b[39m         \u001b[38;5;28;01mif\u001b[39;00m e.errno != \u001b[32m5\u001b[39m:\n",
      "\u001b[36mFile \u001b[39m\u001b[32mc:\\Users\\aziza\\Desktop\\kernel_kaggle\\kernel_kaggle\\Lib\\site-packages\\ipykernel\\iostream.py:694\u001b[39m, in \u001b[36mOutStream.write\u001b[39m\u001b[34m(self, string)\u001b[39m\n\u001b[32m    692\u001b[39m     \u001b[38;5;28mself\u001b[39m.pub_thread.schedule(\u001b[38;5;28mself\u001b[39m._flush)\n\u001b[32m    693\u001b[39m \u001b[38;5;28;01melse\u001b[39;00m:\n\u001b[32m--> \u001b[39m\u001b[32m694\u001b[39m     \u001b[38;5;28;43mself\u001b[39;49m\u001b[43m.\u001b[49m\u001b[43m_schedule_flush\u001b[49m\u001b[43m(\u001b[49m\u001b[43m)\u001b[49m\n\u001b[32m    696\u001b[39m \u001b[38;5;28;01mreturn\u001b[39;00m \u001b[38;5;28mlen\u001b[39m(string)\n",
      "\u001b[36mFile \u001b[39m\u001b[32mc:\\Users\\aziza\\Desktop\\kernel_kaggle\\kernel_kaggle\\Lib\\site-packages\\ipykernel\\iostream.py:590\u001b[39m, in \u001b[36mOutStream._schedule_flush\u001b[39m\u001b[34m(self)\u001b[39m\n\u001b[32m    587\u001b[39m \u001b[38;5;28;01mdef\u001b[39;00m\u001b[38;5;250m \u001b[39m\u001b[34m_schedule_in_thread\u001b[39m():\n\u001b[32m    588\u001b[39m     \u001b[38;5;28mself\u001b[39m._io_loop.call_later(\u001b[38;5;28mself\u001b[39m.flush_interval, \u001b[38;5;28mself\u001b[39m._flush)\n\u001b[32m--> \u001b[39m\u001b[32m590\u001b[39m \u001b[38;5;28;43mself\u001b[39;49m\u001b[43m.\u001b[49m\u001b[43mpub_thread\u001b[49m\u001b[43m.\u001b[49m\u001b[43mschedule\u001b[49m\u001b[43m(\u001b[49m\u001b[43m_schedule_in_thread\u001b[49m\u001b[43m)\u001b[49m\n",
      "\u001b[36mFile \u001b[39m\u001b[32mc:\\Users\\aziza\\Desktop\\kernel_kaggle\\kernel_kaggle\\Lib\\site-packages\\ipykernel\\iostream.py:267\u001b[39m, in \u001b[36mIOPubThread.schedule\u001b[39m\u001b[34m(self, f)\u001b[39m\n\u001b[32m    265\u001b[39m     \u001b[38;5;28mself\u001b[39m._events.append(f)\n\u001b[32m    266\u001b[39m     \u001b[38;5;66;03m# wake event thread (message content is ignored)\u001b[39;00m\n\u001b[32m--> \u001b[39m\u001b[32m267\u001b[39m     \u001b[38;5;28;43mself\u001b[39;49m\u001b[43m.\u001b[49m\u001b[43m_event_pipe\u001b[49m\u001b[43m.\u001b[49m\u001b[43msend\u001b[49m\u001b[43m(\u001b[49m\u001b[33;43mb\u001b[39;49m\u001b[33;43m\"\u001b[39;49m\u001b[33;43m\"\u001b[39;49m\u001b[43m)\u001b[49m\n\u001b[32m    268\u001b[39m \u001b[38;5;28;01melse\u001b[39;00m:\n\u001b[32m    269\u001b[39m     f()\n",
      "\u001b[36mFile \u001b[39m\u001b[32mc:\\Users\\aziza\\Desktop\\kernel_kaggle\\kernel_kaggle\\Lib\\site-packages\\zmq\\sugar\\socket.py:707\u001b[39m, in \u001b[36mSocket.send\u001b[39m\u001b[34m(self, data, flags, copy, track, routing_id, group)\u001b[39m\n\u001b[32m    700\u001b[39m         data = zmq.Frame(\n\u001b[32m    701\u001b[39m             data,\n\u001b[32m    702\u001b[39m             track=track,\n\u001b[32m    703\u001b[39m             copy=copy \u001b[38;5;129;01mor\u001b[39;00m \u001b[38;5;28;01mNone\u001b[39;00m,\n\u001b[32m    704\u001b[39m             copy_threshold=\u001b[38;5;28mself\u001b[39m.copy_threshold,\n\u001b[32m    705\u001b[39m         )\n\u001b[32m    706\u001b[39m     data.group = group\n\u001b[32m--> \u001b[39m\u001b[32m707\u001b[39m \u001b[38;5;28;01mreturn\u001b[39;00m \u001b[38;5;28;43msuper\u001b[39;49m\u001b[43m(\u001b[49m\u001b[43m)\u001b[49m\u001b[43m.\u001b[49m\u001b[43msend\u001b[49m\u001b[43m(\u001b[49m\u001b[43mdata\u001b[49m\u001b[43m,\u001b[49m\u001b[43m \u001b[49m\u001b[43mflags\u001b[49m\u001b[43m=\u001b[49m\u001b[43mflags\u001b[49m\u001b[43m,\u001b[49m\u001b[43m \u001b[49m\u001b[43mcopy\u001b[49m\u001b[43m=\u001b[49m\u001b[43mcopy\u001b[49m\u001b[43m,\u001b[49m\u001b[43m \u001b[49m\u001b[43mtrack\u001b[49m\u001b[43m=\u001b[49m\u001b[43mtrack\u001b[49m\u001b[43m)\u001b[49m\n",
      "\u001b[36mFile \u001b[39m\u001b[32m_zmq.py:1092\u001b[39m, in \u001b[36mzmq.backend.cython._zmq.Socket.send\u001b[39m\u001b[34m()\u001b[39m\n",
      "\u001b[36mFile \u001b[39m\u001b[32m_zmq.py:1140\u001b[39m, in \u001b[36mzmq.backend.cython._zmq.Socket.send\u001b[39m\u001b[34m()\u001b[39m\n",
      "\u001b[36mFile \u001b[39m\u001b[32m_zmq.py:1339\u001b[39m, in \u001b[36mzmq.backend.cython._zmq._send_copy\u001b[39m\u001b[34m()\u001b[39m\n",
      "\u001b[36mFile \u001b[39m\u001b[32m_zmq.py:160\u001b[39m, in \u001b[36mzmq.backend.cython._zmq._check_rc\u001b[39m\u001b[34m()\u001b[39m\n",
      "\u001b[31mKeyboardInterrupt\u001b[39m: "
     ]
    }
   ],
   "source": [
    "preds = {}\n",
    "\n",
    "for k in [0, 1, 2]:\n",
    "    X_train = pd.read_csv(f\"../data/Xtr{k}.csv\")\n",
    "    y_train = pd.read_csv(f\"../data/Ytr{k}.csv\")\n",
    "    X_test = pd.read_csv(f\"../data/Xte{k}.csv\")\n",
    "\n",
    "    X_train = np.array(X_train[\"seq\"])\n",
    "    y_train = np.array(y_train[\"Bound\"])\n",
    "    X_test = np.array(X_test[\"seq\"])\n",
    "\n",
    "    X_train_embed = SpectrumEmbedding(X=X_train, list_k=[5, 7, 12], train=True)\n",
    "    X_test_embed = SpectrumEmbedding(X=X_test, list_k=[5, 7, 12], train=False, X_train=X_train)\n",
    "\n",
    "    kernel = PolyKernel(2)\n",
    "    model = KernelLogisticRegression(kernel, lamda=1, max_iter=15, preprocessing=None, verbose=False)\n",
    "\n",
    "    model.fit(X_train_embed, y_train)\n",
    "\n",
    "    y_pred = model.predict(X_test_embed)\n",
    "    preds[k] = y_pred\n",
    "\n",
    "final_pred = pd.DataFrame({\n",
    "    \"Id\": pd.RangeIndex(0, 3000), \n",
    "    \"Bound\": np.concat([preds[0].reshape(1000), preds[1].reshape(1000), preds[2].reshape(1000)])}).set_index(\"Id\").to_csv(\"Yte.csv\")"
   ]
  },
  {
   "cell_type": "code",
   "execution_count": null,
   "metadata": {},
   "outputs": [
    {
     "name": "stderr",
     "output_type": "stream",
     "text": [
      "100%|██████████| 142555/142555 [03:21<00:00, 708.00it/s] \n",
      "100%|██████████| 142555/142555 [00:53<00:00, 2684.36it/s]\n"
     ]
    }
   ],
   "source": []
  },
  {
   "cell_type": "code",
   "execution_count": null,
   "metadata": {},
   "outputs": [],
   "source": [
    "np.save(\"X_tr2_embed.npy\", X_train_embed)\n",
    "np.save(\"X_te2_embed.npy\", X_test_embed)"
   ]
  },
  {
   "cell_type": "code",
   "execution_count": null,
   "metadata": {},
   "outputs": [],
   "source": []
  },
  {
   "cell_type": "code",
   "execution_count": null,
   "metadata": {},
   "outputs": [],
   "source": []
  },
  {
   "cell_type": "code",
   "execution_count": 45,
   "metadata": {},
   "outputs": [],
   "source": [
    "np.save(\"y_pred1.npy\", y_pred)"
   ]
  },
  {
   "cell_type": "code",
   "execution_count": 34,
   "metadata": {},
   "outputs": [
    {
     "name": "stdout",
     "output_type": "stream",
     "text": [
      "L'accuracy est de 0.730\n"
     ]
    }
   ],
   "source": [
    "def calculate_accuracy(y_pred, y_test):\n",
    "    correct_predictions = sum(p == t for p, t in zip(y_pred, y_test))\n",
    "    total_predictions = len(y_test)\n",
    "    accuracy = correct_predictions / total_predictions\n",
    "    return accuracy\n",
    "\n",
    "accuracy = calculate_accuracy(y_pred.reshape(len(y_pred)), y_test)\n",
    "print(f\"L'accuracy est de {accuracy:.3f}\")\n"
   ]
  },
  {
   "cell_type": "code",
   "execution_count": null,
   "metadata": {},
   "outputs": [
    {
     "data": {
      "text/plain": [
       "(1000,)"
      ]
     },
     "execution_count": 6,
     "metadata": {},
     "output_type": "execute_result"
    }
   ],
   "source": []
  },
  {
   "cell_type": "code",
   "execution_count": 8,
   "metadata": {},
   "outputs": [],
   "source": [
    "pd.DataFrame({\"Id\": pd.RangeIndex(0, 3000), \"Bound\": np.concat([np.load(\"y_pred0.npy\").reshape(1000), pd.read_csv(\"Ypr1.csv\")[\"Bound\"].values, np.load(\"y_pred2.npy\")])}).set_index(\"Id\").to_csv(\"New_Pred.csv\")"
   ]
  }
 ],
 "metadata": {
  "kernelspec": {
   "display_name": "kernel_kaggle",
   "language": "python",
   "name": "python3"
  },
  "language_info": {
   "codemirror_mode": {
    "name": "ipython",
    "version": 3
   },
   "file_extension": ".py",
   "mimetype": "text/x-python",
   "name": "python",
   "nbconvert_exporter": "python",
   "pygments_lexer": "ipython3",
   "version": "3.11.3"
  }
 },
 "nbformat": 4,
 "nbformat_minor": 2
}
